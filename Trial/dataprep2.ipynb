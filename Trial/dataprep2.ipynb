{
 "cells": [
  {
   "cell_type": "code",
   "execution_count": 154,
   "metadata": {},
   "outputs": [],
   "source": [
    "# https://www.youtube.com/watch?v=eshMzk8L3ic\n",
    "import pandas as pd\n"
   ]
  },
  {
   "cell_type": "code",
   "execution_count": 155,
   "metadata": {},
   "outputs": [
    {
     "data": {
      "text/plain": [
       "(138, 14)"
      ]
     },
     "execution_count": 155,
     "metadata": {},
     "output_type": "execute_result"
    }
   ],
   "source": [
    "data = pd.read_csv('datasets/Traveler trip dataset/Travel details dataset.csv')\n",
    "data.shape\n",
    "#data.head() # to display first 5 values\n",
    "#data.tail() # to display last 5 values.\n"
   ]
  },
  {
   "cell_type": "code",
   "execution_count": 156,
   "metadata": {},
   "outputs": [
    {
     "name": "stdout",
     "output_type": "stream",
     "text": [
      "The number of rows : 138\n",
      "The number of columns : 14\n"
     ]
    }
   ],
   "source": [
    "print(\"The number of rows :\",data.shape[0])\n",
    "print(\"The number of columns :\",data.shape[1])"
   ]
  },
  {
   "cell_type": "code",
   "execution_count": 157,
   "metadata": {},
   "outputs": [
    {
     "name": "stdout",
     "output_type": "stream",
     "text": [
      "<class 'pandas.core.frame.DataFrame'>\n",
      "RangeIndex: 138 entries, 0 to 137\n",
      "Data columns (total 14 columns):\n",
      " #   Column                Non-Null Count  Dtype \n",
      "---  ------                --------------  ----- \n",
      " 0   Trip ID               138 non-null    int64 \n",
      " 1   Destination city      138 non-null    object\n",
      " 2   Destination country   138 non-null    object\n",
      " 3   Start date            138 non-null    object\n",
      " 4   End date              138 non-null    object\n",
      " 5   Duration (days)       138 non-null    int64 \n",
      " 6   Traveler name         138 non-null    object\n",
      " 7   Traveler age          138 non-null    int64 \n",
      " 8   Traveler gender       138 non-null    object\n",
      " 9   Traveler nationality  138 non-null    object\n",
      " 10  Accommodation type    138 non-null    object\n",
      " 11  Accommodation cost    138 non-null    object\n",
      " 12  Transportation type   138 non-null    object\n",
      " 13  Transportation cost   138 non-null    object\n",
      "dtypes: int64(3), object(11)\n",
      "memory usage: 15.2+ KB\n"
     ]
    },
    {
     "data": {
      "text/plain": [
       "Trip ID                 0\n",
       "Destination city        0\n",
       "Destination country     0\n",
       "Start date              0\n",
       "End date                0\n",
       "Duration (days)         0\n",
       "Traveler name           0\n",
       "Traveler age            0\n",
       "Traveler gender         0\n",
       "Traveler nationality    0\n",
       "Accommodation type      0\n",
       "Accommodation cost      0\n",
       "Transportation type     0\n",
       "Transportation cost     0\n",
       "dtype: int64"
      ]
     },
     "execution_count": 157,
     "metadata": {},
     "output_type": "execute_result"
    }
   ],
   "source": [
    "data.info()# to getv the stat of the data set.\n",
    "data.isnull().sum()\n"
   ]
  },
  {
   "cell_type": "code",
   "execution_count": 158,
   "metadata": {},
   "outputs": [
    {
     "data": {
      "text/plain": [
       "array(['London', 'Phuket', 'Bali', 'New York', 'Tokyo', 'Paris', 'Sydney',\n",
       "       'Rio de Janeiro', 'Amsterdam', 'Dubai', 'Cancun', 'Barcelona',\n",
       "       'Honolulu', 'Berlin', 'Marrakech', 'Edinburgh', 'Rome', 'Bangkok',\n",
       "       'Hawaii', 'Japan', 'Thailand', 'France', 'Australia', 'Brazil',\n",
       "       'Greece', 'Egypt', 'Mexico', 'Italy', 'Spain', 'Canada',\n",
       "       'New York City', 'Vancouver', 'Seoul', 'Los Angeles', 'Cape Town',\n",
       "       'Santorini', 'Phnom Penh', 'Athens', 'Auckland', 'kerala'],\n",
       "      dtype=object)"
      ]
     },
     "execution_count": 158,
     "metadata": {},
     "output_type": "execute_result"
    }
   ],
   "source": [
    "#data['Accommodation type'].unique()\n",
    "\n",
    "data['Transportation type'].unique()\n",
    "data['Destination city'].unique()"
   ]
  },
  {
   "cell_type": "code",
   "execution_count": 159,
   "metadata": {},
   "outputs": [
    {
     "data": {
      "text/html": [
       "<div>\n",
       "<style scoped>\n",
       "    .dataframe tbody tr th:only-of-type {\n",
       "        vertical-align: middle;\n",
       "    }\n",
       "\n",
       "    .dataframe tbody tr th {\n",
       "        vertical-align: top;\n",
       "    }\n",
       "\n",
       "    .dataframe thead th {\n",
       "        text-align: right;\n",
       "    }\n",
       "</style>\n",
       "<table border=\"1\" class=\"dataframe\">\n",
       "  <thead>\n",
       "    <tr style=\"text-align: right;\">\n",
       "      <th></th>\n",
       "      <th>Trip ID</th>\n",
       "      <th>Destination city</th>\n",
       "      <th>Destination country</th>\n",
       "      <th>Start date</th>\n",
       "      <th>End date</th>\n",
       "      <th>Duration (days)</th>\n",
       "      <th>Traveler name</th>\n",
       "      <th>Traveler age</th>\n",
       "      <th>Traveler gender</th>\n",
       "      <th>Traveler nationality</th>\n",
       "      <th>Accommodation type</th>\n",
       "      <th>Accommodation cost</th>\n",
       "      <th>Transportation type</th>\n",
       "      <th>Transportation cost</th>\n",
       "    </tr>\n",
       "  </thead>\n",
       "  <tbody>\n",
       "    <tr>\n",
       "      <th>0</th>\n",
       "      <td>1</td>\n",
       "      <td>London</td>\n",
       "      <td>UK</td>\n",
       "      <td>5/1/2023</td>\n",
       "      <td>5/8/2023</td>\n",
       "      <td>7</td>\n",
       "      <td>John Smith</td>\n",
       "      <td>35</td>\n",
       "      <td>Male</td>\n",
       "      <td>American</td>\n",
       "      <td>0.0</td>\n",
       "      <td>1200</td>\n",
       "      <td>0</td>\n",
       "      <td>600</td>\n",
       "    </tr>\n",
       "    <tr>\n",
       "      <th>1</th>\n",
       "      <td>2</td>\n",
       "      <td>Phuket</td>\n",
       "      <td>Thailand</td>\n",
       "      <td>6/15/2023</td>\n",
       "      <td>6/20/2023</td>\n",
       "      <td>5</td>\n",
       "      <td>Jane Doe</td>\n",
       "      <td>28</td>\n",
       "      <td>Female</td>\n",
       "      <td>Canadian</td>\n",
       "      <td>1.0</td>\n",
       "      <td>800</td>\n",
       "      <td>0</td>\n",
       "      <td>500</td>\n",
       "    </tr>\n",
       "    <tr>\n",
       "      <th>2</th>\n",
       "      <td>3</td>\n",
       "      <td>Bali</td>\n",
       "      <td>Indonesia</td>\n",
       "      <td>7/1/2023</td>\n",
       "      <td>7/8/2023</td>\n",
       "      <td>7</td>\n",
       "      <td>David Lee</td>\n",
       "      <td>45</td>\n",
       "      <td>Male</td>\n",
       "      <td>Korean</td>\n",
       "      <td>2.0</td>\n",
       "      <td>1000</td>\n",
       "      <td>0</td>\n",
       "      <td>700</td>\n",
       "    </tr>\n",
       "    <tr>\n",
       "      <th>3</th>\n",
       "      <td>4</td>\n",
       "      <td>New York</td>\n",
       "      <td>USA</td>\n",
       "      <td>8/15/2023</td>\n",
       "      <td>8/29/2023</td>\n",
       "      <td>14</td>\n",
       "      <td>Sarah Johnson</td>\n",
       "      <td>29</td>\n",
       "      <td>Female</td>\n",
       "      <td>British</td>\n",
       "      <td>0.0</td>\n",
       "      <td>2000</td>\n",
       "      <td>0</td>\n",
       "      <td>1000</td>\n",
       "    </tr>\n",
       "    <tr>\n",
       "      <th>4</th>\n",
       "      <td>5</td>\n",
       "      <td>Tokyo</td>\n",
       "      <td>Japan</td>\n",
       "      <td>9/10/2023</td>\n",
       "      <td>9/17/2023</td>\n",
       "      <td>7</td>\n",
       "      <td>Kim Nguyen</td>\n",
       "      <td>26</td>\n",
       "      <td>Female</td>\n",
       "      <td>Vietnamese</td>\n",
       "      <td>3.0</td>\n",
       "      <td>700</td>\n",
       "      <td>1</td>\n",
       "      <td>200</td>\n",
       "    </tr>\n",
       "    <tr>\n",
       "      <th>...</th>\n",
       "      <td>...</td>\n",
       "      <td>...</td>\n",
       "      <td>...</td>\n",
       "      <td>...</td>\n",
       "      <td>...</td>\n",
       "      <td>...</td>\n",
       "      <td>...</td>\n",
       "      <td>...</td>\n",
       "      <td>...</td>\n",
       "      <td>...</td>\n",
       "      <td>...</td>\n",
       "      <td>...</td>\n",
       "      <td>...</td>\n",
       "      <td>...</td>\n",
       "    </tr>\n",
       "    <tr>\n",
       "      <th>133</th>\n",
       "      <td>136</td>\n",
       "      <td>Vancouver</td>\n",
       "      <td>Canada</td>\n",
       "      <td>8/15/2023</td>\n",
       "      <td>8/21/2023</td>\n",
       "      <td>6</td>\n",
       "      <td>Emma Wilson</td>\n",
       "      <td>29</td>\n",
       "      <td>Female</td>\n",
       "      <td>Canadian</td>\n",
       "      <td>0.0</td>\n",
       "      <td>5000</td>\n",
       "      <td>8</td>\n",
       "      <td>3000</td>\n",
       "    </tr>\n",
       "    <tr>\n",
       "      <th>134</th>\n",
       "      <td>137</td>\n",
       "      <td>Bangkok</td>\n",
       "      <td>Thailand</td>\n",
       "      <td>9/1/2023</td>\n",
       "      <td>9/8/2023</td>\n",
       "      <td>7</td>\n",
       "      <td>Ryan Chen</td>\n",
       "      <td>34</td>\n",
       "      <td>Male</td>\n",
       "      <td>Chinese</td>\n",
       "      <td>4.0</td>\n",
       "      <td>2000</td>\n",
       "      <td>1</td>\n",
       "      <td>1000</td>\n",
       "    </tr>\n",
       "    <tr>\n",
       "      <th>135</th>\n",
       "      <td>138</td>\n",
       "      <td>Barcelona</td>\n",
       "      <td>Spain</td>\n",
       "      <td>9/15/2023</td>\n",
       "      <td>9/22/2023</td>\n",
       "      <td>7</td>\n",
       "      <td>Sofia Rodriguez</td>\n",
       "      <td>25</td>\n",
       "      <td>Female</td>\n",
       "      <td>Spanish</td>\n",
       "      <td>3.0</td>\n",
       "      <td>6000</td>\n",
       "      <td>8</td>\n",
       "      <td>2500</td>\n",
       "    </tr>\n",
       "    <tr>\n",
       "      <th>136</th>\n",
       "      <td>139</td>\n",
       "      <td>Auckland</td>\n",
       "      <td>New Zealand</td>\n",
       "      <td>10/1/2023</td>\n",
       "      <td>10/8/2023</td>\n",
       "      <td>7</td>\n",
       "      <td>William Brown</td>\n",
       "      <td>39</td>\n",
       "      <td>Male</td>\n",
       "      <td>New Zealander</td>\n",
       "      <td>0.0</td>\n",
       "      <td>7000</td>\n",
       "      <td>1</td>\n",
       "      <td>2500</td>\n",
       "    </tr>\n",
       "    <tr>\n",
       "      <th>137</th>\n",
       "      <td>140</td>\n",
       "      <td>kerala</td>\n",
       "      <td>India</td>\n",
       "      <td>15/2/2023</td>\n",
       "      <td>1/3/2023</td>\n",
       "      <td>13</td>\n",
       "      <td>ryan ranold</td>\n",
       "      <td>50</td>\n",
       "      <td>male</td>\n",
       "      <td>Korea</td>\n",
       "      <td>0.0</td>\n",
       "      <td>1500</td>\n",
       "      <td>1</td>\n",
       "      <td>750</td>\n",
       "    </tr>\n",
       "  </tbody>\n",
       "</table>\n",
       "<p>138 rows × 14 columns</p>\n",
       "</div>"
      ],
      "text/plain": [
       "     Trip ID Destination city Destination country Start date   End date  \\\n",
       "0          1           London                  UK   5/1/2023   5/8/2023   \n",
       "1          2           Phuket            Thailand  6/15/2023  6/20/2023   \n",
       "2          3             Bali           Indonesia   7/1/2023   7/8/2023   \n",
       "3          4         New York                 USA  8/15/2023  8/29/2023   \n",
       "4          5            Tokyo               Japan  9/10/2023  9/17/2023   \n",
       "..       ...              ...                 ...        ...        ...   \n",
       "133      136        Vancouver              Canada  8/15/2023  8/21/2023   \n",
       "134      137          Bangkok            Thailand   9/1/2023   9/8/2023   \n",
       "135      138        Barcelona               Spain  9/15/2023  9/22/2023   \n",
       "136      139         Auckland         New Zealand  10/1/2023  10/8/2023   \n",
       "137      140           kerala               India  15/2/2023   1/3/2023   \n",
       "\n",
       "     Duration (days)    Traveler name  Traveler age Traveler gender  \\\n",
       "0                  7       John Smith            35            Male   \n",
       "1                  5         Jane Doe            28          Female   \n",
       "2                  7        David Lee            45            Male   \n",
       "3                 14    Sarah Johnson            29          Female   \n",
       "4                  7       Kim Nguyen            26          Female   \n",
       "..               ...              ...           ...             ...   \n",
       "133                6      Emma Wilson            29          Female   \n",
       "134                7        Ryan Chen            34            Male   \n",
       "135                7  Sofia Rodriguez            25          Female   \n",
       "136                7    William Brown            39            Male   \n",
       "137               13      ryan ranold            50            male   \n",
       "\n",
       "    Traveler nationality  Accommodation type Accommodation cost  \\\n",
       "0               American                 0.0               1200   \n",
       "1               Canadian                 1.0                800   \n",
       "2                 Korean                 2.0               1000   \n",
       "3                British                 0.0               2000   \n",
       "4             Vietnamese                 3.0                700   \n",
       "..                   ...                 ...                ...   \n",
       "133             Canadian                 0.0               5000   \n",
       "134              Chinese                 4.0               2000   \n",
       "135              Spanish                 3.0               6000   \n",
       "136        New Zealander                 0.0               7000   \n",
       "137                Korea                 0.0               1500   \n",
       "\n",
       "     Transportation type Transportation cost  \n",
       "0                      0                 600  \n",
       "1                      0                 500  \n",
       "2                      0                 700  \n",
       "3                      0                1000  \n",
       "4                      1                 200  \n",
       "..                   ...                 ...  \n",
       "133                    8                3000  \n",
       "134                    1                1000  \n",
       "135                    8                2500  \n",
       "136                    1                2500  \n",
       "137                    1                 750  \n",
       "\n",
       "[138 rows x 14 columns]"
      ]
     },
     "execution_count": 159,
     "metadata": {},
     "output_type": "execute_result"
    }
   ],
   "source": [
    "data['Accommodation type']=data['Accommodation type'].map({'Hotel':0,'Resort':1,'Villa':2,'Airbnb':3,'Hostel':4,'Raid':5,'Vacation rental':6,'Guesthouse':7})\n",
    "data\n",
    "data['Transportation type']=data['Transportation type'].map({'Flight':0,'Train':1,'Plane':2,'Bus':3,'Car rental':4,'Subway':5,'Car':6,'Ferry':7,'Airplane':8})\n",
    "data"
   ]
  },
  {
   "cell_type": "code",
   "execution_count": 160,
   "metadata": {},
   "outputs": [],
   "source": [
    "X=data.drop(['Accommodation cost','Transportation cost'], axis=1)\n",
    "y= data[['Accommodation cost','Transportation cost']]"
   ]
  },
  {
   "cell_type": "code",
   "execution_count": 161,
   "metadata": {},
   "outputs": [
    {
     "name": "stdout",
     "output_type": "stream",
     "text": [
      "<class 'pandas.core.frame.DataFrame'>\n",
      "RangeIndex: 138 entries, 0 to 137\n",
      "Data columns (total 14 columns):\n",
      " #   Column                Non-Null Count  Dtype  \n",
      "---  ------                --------------  -----  \n",
      " 0   Trip ID               138 non-null    int64  \n",
      " 1   Destination city      138 non-null    object \n",
      " 2   Destination country   138 non-null    object \n",
      " 3   Start date            138 non-null    object \n",
      " 4   End date              138 non-null    object \n",
      " 5   Duration (days)       138 non-null    int64  \n",
      " 6   Traveler name         138 non-null    object \n",
      " 7   Traveler age          138 non-null    int64  \n",
      " 8   Traveler gender       138 non-null    object \n",
      " 9   Traveler nationality  138 non-null    object \n",
      " 10  Accommodation type    137 non-null    float64\n",
      " 11  Accommodation cost    138 non-null    object \n",
      " 12  Transportation type   138 non-null    int64  \n",
      " 13  Transportation cost   138 non-null    object \n",
      "dtypes: float64(1), int64(4), object(9)\n",
      "memory usage: 15.2+ KB\n"
     ]
    }
   ],
   "source": [
    "\n",
    "data.info()\n"
   ]
  },
  {
   "cell_type": "code",
   "execution_count": 162,
   "metadata": {},
   "outputs": [
    {
     "data": {
      "text/plain": [
       "array(['London', 'Phuket', 'Bali', 'New York', 'Tokyo', 'Paris', 'Sydney',\n",
       "       'Rio de Janeiro', 'Amsterdam', 'Dubai', 'Cancun', 'Barcelona',\n",
       "       'Honolulu', 'Berlin', 'Marrakech', 'Edinburgh', 'Rome', 'Bangkok',\n",
       "       'Hawaii', 'Japan', 'Thailand', 'France', 'Australia', 'Brazil',\n",
       "       'Greece', 'Egypt', 'Mexico', 'Italy', 'Spain', 'Canada',\n",
       "       'New York City', 'Vancouver', 'Seoul', 'Los Angeles', 'Cape Town',\n",
       "       'Santorini', 'Phnom Penh', 'Athens', 'Auckland', 'kerala'],\n",
       "      dtype=object)"
      ]
     },
     "execution_count": 162,
     "metadata": {},
     "output_type": "execute_result"
    }
   ],
   "source": [
    "data['Destination city'].unique()"
   ]
  },
  {
   "cell_type": "code",
   "execution_count": 163,
   "metadata": {},
   "outputs": [
    {
     "data": {
      "text/plain": [
       "array(['UK', 'Thailand', 'Indonesia', 'USA', 'Japan', 'France',\n",
       "       'Australia', 'Brazil', 'Netherlands', 'United Arab Emirates',\n",
       "       'Mexico', 'Spain', 'Hawaii', 'Germany', 'morocco', 'Scotland',\n",
       "       'Ubud', 'japan', 'Italy', 'US', 'Greece', 'Egypt', 'Canada', 'AUS',\n",
       "       'South Korea', 'Jambodia', 'Barcelona', 'Indonasia', 'SA', 'Aus',\n",
       "       'Thai', 'UAE', 'China', 'Rio', 'Africa', 'Uk', 'Ukraine',\n",
       "       'cambodia', 'South Africa', 'New Zealand', 'India'], dtype=object)"
      ]
     },
     "execution_count": 163,
     "metadata": {},
     "output_type": "execute_result"
    }
   ],
   "source": [
    "data['Destination country'].unique()"
   ]
  },
  {
   "cell_type": "code",
   "execution_count": 164,
   "metadata": {},
   "outputs": [
    {
     "name": "stdout",
     "output_type": "stream",
     "text": [
      "[[0. 0. 0. ... 0. 0. 0.]\n",
      " [0. 0. 0. ... 0. 0. 0.]\n",
      " [0. 0. 0. ... 0. 0. 0.]\n",
      " ...\n",
      " [0. 0. 0. ... 0. 0. 0.]\n",
      " [0. 0. 1. ... 0. 0. 0.]\n",
      " [0. 0. 0. ... 0. 0. 1.]]\n"
     ]
    }
   ],
   "source": [
    "from sklearn.preprocessing import OneHotEncoder\n",
    "import numpy as np\n",
    "ohe=OneHotEncoder()\n",
    "cc_array=ohe.fit_transform(data[[\"Destination city\"]]).toarray()\n",
    "print(cc_array)"
   ]
  },
  {
   "cell_type": "code",
   "execution_count": 165,
   "metadata": {},
   "outputs": [
    {
     "name": "stdout",
     "output_type": "stream",
     "text": [
      "[array(['Amsterdam', 'Athens', 'Auckland', 'Australia', 'Bali', 'Bangkok',\n",
      "       'Barcelona', 'Berlin', 'Brazil', 'Canada', 'Cancun', 'Cape Town',\n",
      "       'Dubai', 'Edinburgh', 'Egypt', 'France', 'Greece', 'Hawaii',\n",
      "       'Honolulu', 'Italy', 'Japan', 'London', 'Los Angeles', 'Marrakech',\n",
      "       'Mexico', 'New York', 'New York City', 'Paris', 'Phnom Penh',\n",
      "       'Phuket', 'Rio de Janeiro', 'Rome', 'Santorini', 'Seoul', 'Spain',\n",
      "       'Sydney', 'Thailand', 'Tokyo', 'Vancouver', 'kerala'], dtype=object)]\n"
     ]
    }
   ],
   "source": [
    "cc_label=ohe.categories_\n",
    "print(cc_label)"
   ]
  },
  {
   "cell_type": "code",
   "execution_count": 166,
   "metadata": {},
   "outputs": [],
   "source": [
    "new_cc_label=np.array(cc_label).ravel()"
   ]
  },
  {
   "cell_type": "code",
   "execution_count": 167,
   "metadata": {},
   "outputs": [
    {
     "name": "stdout",
     "output_type": "stream",
     "text": [
      "     Amsterdam  Athens  Auckland  Australia  Bali  Bangkok  Barcelona  Berlin  \\\n",
      "0          0.0     0.0       0.0        0.0   0.0      0.0        0.0     0.0   \n",
      "1          0.0     0.0       0.0        0.0   0.0      0.0        0.0     0.0   \n",
      "2          0.0     0.0       0.0        0.0   1.0      0.0        0.0     0.0   \n",
      "3          0.0     0.0       0.0        0.0   0.0      0.0        0.0     0.0   \n",
      "4          0.0     0.0       0.0        0.0   0.0      0.0        0.0     0.0   \n",
      "..         ...     ...       ...        ...   ...      ...        ...     ...   \n",
      "133        0.0     0.0       0.0        0.0   0.0      0.0        0.0     0.0   \n",
      "134        0.0     0.0       0.0        0.0   0.0      1.0        0.0     0.0   \n",
      "135        0.0     0.0       0.0        0.0   0.0      0.0        1.0     0.0   \n",
      "136        0.0     0.0       1.0        0.0   0.0      0.0        0.0     0.0   \n",
      "137        0.0     0.0       0.0        0.0   0.0      0.0        0.0     0.0   \n",
      "\n",
      "     Brazil  Canada  ...  Rio de Janeiro  Rome  Santorini  Seoul  Spain  \\\n",
      "0       0.0     0.0  ...             0.0   0.0        0.0    0.0    0.0   \n",
      "1       0.0     0.0  ...             0.0   0.0        0.0    0.0    0.0   \n",
      "2       0.0     0.0  ...             0.0   0.0        0.0    0.0    0.0   \n",
      "3       0.0     0.0  ...             0.0   0.0        0.0    0.0    0.0   \n",
      "4       0.0     0.0  ...             0.0   0.0        0.0    0.0    0.0   \n",
      "..      ...     ...  ...             ...   ...        ...    ...    ...   \n",
      "133     0.0     0.0  ...             0.0   0.0        0.0    0.0    0.0   \n",
      "134     0.0     0.0  ...             0.0   0.0        0.0    0.0    0.0   \n",
      "135     0.0     0.0  ...             0.0   0.0        0.0    0.0    0.0   \n",
      "136     0.0     0.0  ...             0.0   0.0        0.0    0.0    0.0   \n",
      "137     0.0     0.0  ...             0.0   0.0        0.0    0.0    0.0   \n",
      "\n",
      "     Sydney  Thailand  Tokyo  Vancouver  kerala  \n",
      "0       0.0       0.0    0.0        0.0     0.0  \n",
      "1       0.0       0.0    0.0        0.0     0.0  \n",
      "2       0.0       0.0    0.0        0.0     0.0  \n",
      "3       0.0       0.0    0.0        0.0     0.0  \n",
      "4       0.0       0.0    1.0        0.0     0.0  \n",
      "..      ...       ...    ...        ...     ...  \n",
      "133     0.0       0.0    0.0        1.0     0.0  \n",
      "134     0.0       0.0    0.0        0.0     0.0  \n",
      "135     0.0       0.0    0.0        0.0     0.0  \n",
      "136     0.0       0.0    0.0        0.0     0.0  \n",
      "137     0.0       0.0    0.0        0.0     1.0  \n",
      "\n",
      "[138 rows x 40 columns]\n"
     ]
    }
   ],
   "source": [
    "city=pd.DataFrame(cc_array, columns = new_cc_label)\n",
    "print(city)"
   ]
  },
  {
   "cell_type": "code",
   "execution_count": 168,
   "metadata": {},
   "outputs": [
    {
     "name": "stdout",
     "output_type": "stream",
     "text": [
      "     Trip ID Destination city Destination country Start date   End date  \\\n",
      "0          1           London                  UK   5/1/2023   5/8/2023   \n",
      "1          2           Phuket            Thailand  6/15/2023  6/20/2023   \n",
      "2          3             Bali           Indonesia   7/1/2023   7/8/2023   \n",
      "3          4         New York                 USA  8/15/2023  8/29/2023   \n",
      "4          5            Tokyo               Japan  9/10/2023  9/17/2023   \n",
      "..       ...              ...                 ...        ...        ...   \n",
      "133      136        Vancouver              Canada  8/15/2023  8/21/2023   \n",
      "134      137          Bangkok            Thailand   9/1/2023   9/8/2023   \n",
      "135      138        Barcelona               Spain  9/15/2023  9/22/2023   \n",
      "136      139         Auckland         New Zealand  10/1/2023  10/8/2023   \n",
      "137      140           kerala               India  15/2/2023   1/3/2023   \n",
      "\n",
      "     Duration (days)    Traveler name  Traveler age Traveler gender  \\\n",
      "0                  7       John Smith            35            Male   \n",
      "1                  5         Jane Doe            28          Female   \n",
      "2                  7        David Lee            45            Male   \n",
      "3                 14    Sarah Johnson            29          Female   \n",
      "4                  7       Kim Nguyen            26          Female   \n",
      "..               ...              ...           ...             ...   \n",
      "133                6      Emma Wilson            29          Female   \n",
      "134                7        Ryan Chen            34            Male   \n",
      "135                7  Sofia Rodriguez            25          Female   \n",
      "136                7    William Brown            39            Male   \n",
      "137               13      ryan ranold            50            male   \n",
      "\n",
      "    Traveler nationality  ...  Rio de Janeiro Rome  Santorini Seoul  Spain  \\\n",
      "0               American  ...             0.0  0.0        0.0   0.0    0.0   \n",
      "1               Canadian  ...             0.0  0.0        0.0   0.0    0.0   \n",
      "2                 Korean  ...             0.0  0.0        0.0   0.0    0.0   \n",
      "3                British  ...             0.0  0.0        0.0   0.0    0.0   \n",
      "4             Vietnamese  ...             0.0  0.0        0.0   0.0    0.0   \n",
      "..                   ...  ...             ...  ...        ...   ...    ...   \n",
      "133             Canadian  ...             0.0  0.0        0.0   0.0    0.0   \n",
      "134              Chinese  ...             0.0  0.0        0.0   0.0    0.0   \n",
      "135              Spanish  ...             0.0  0.0        0.0   0.0    0.0   \n",
      "136        New Zealander  ...             0.0  0.0        0.0   0.0    0.0   \n",
      "137                Korea  ...             0.0  0.0        0.0   0.0    0.0   \n",
      "\n",
      "     Sydney  Thailand  Tokyo  Vancouver  kerala  \n",
      "0       0.0       0.0    0.0        0.0     0.0  \n",
      "1       0.0       0.0    0.0        0.0     0.0  \n",
      "2       0.0       0.0    0.0        0.0     0.0  \n",
      "3       0.0       0.0    0.0        0.0     0.0  \n",
      "4       0.0       0.0    1.0        0.0     0.0  \n",
      "..      ...       ...    ...        ...     ...  \n",
      "133     0.0       0.0    0.0        1.0     0.0  \n",
      "134     0.0       0.0    0.0        0.0     0.0  \n",
      "135     0.0       0.0    0.0        0.0     0.0  \n",
      "136     0.0       0.0    0.0        0.0     0.0  \n",
      "137     0.0       0.0    0.0        0.0     1.0  \n",
      "\n",
      "[138 rows x 54 columns]\n"
     ]
    }
   ],
   "source": [
    "new_data= pd.concat([data,city], axis=1)\n",
    "print(new_data)"
   ]
  },
  {
   "cell_type": "code",
   "execution_count": 169,
   "metadata": {},
   "outputs": [
    {
     "name": "stdout",
     "output_type": "stream",
     "text": [
      "[[0. 0. 0. ... 0. 0. 0.]\n",
      " [0. 0. 0. ... 0. 0. 0.]\n",
      " [0. 0. 0. ... 0. 0. 0.]\n",
      " ...\n",
      " [0. 0. 0. ... 0. 0. 0.]\n",
      " [0. 0. 0. ... 0. 0. 0.]\n",
      " [0. 0. 0. ... 0. 0. 0.]]\n"
     ]
    }
   ],
   "source": [
    "Dc_array=ohe.fit_transform(data[['Destination country']]).toarray()\n",
    "print(Dc_array)"
   ]
  },
  {
   "cell_type": "code",
   "execution_count": 170,
   "metadata": {},
   "outputs": [
    {
     "name": "stdout",
     "output_type": "stream",
     "text": [
      "[array(['AUS', 'Africa', 'Aus', 'Australia', 'Barcelona', 'Brazil',\n",
      "       'Canada', 'China', 'Egypt', 'France', 'Germany', 'Greece',\n",
      "       'Hawaii', 'India', 'Indonasia', 'Indonesia', 'Italy', 'Jambodia',\n",
      "       'Japan', 'Mexico', 'Netherlands', 'New Zealand', 'Rio', 'SA',\n",
      "       'Scotland', 'South Africa', 'South Korea', 'Spain', 'Thai',\n",
      "       'Thailand', 'UAE', 'UK', 'US', 'USA', 'Ubud', 'Uk', 'Ukraine',\n",
      "       'United Arab Emirates', 'cambodia', 'japan', 'morocco'],\n",
      "      dtype=object)]\n"
     ]
    }
   ],
   "source": [
    "Dc_label=ohe.categories_\n",
    "print(Dc_label)"
   ]
  },
  {
   "cell_type": "code",
   "execution_count": 171,
   "metadata": {},
   "outputs": [
    {
     "name": "stdout",
     "output_type": "stream",
     "text": [
      "['AUS' 'Africa' 'Aus' 'Australia' 'Barcelona' 'Brazil' 'Canada' 'China'\n",
      " 'Egypt' 'France' 'Germany' 'Greece' 'Hawaii' 'India' 'Indonasia'\n",
      " 'Indonesia' 'Italy' 'Jambodia' 'Japan' 'Mexico' 'Netherlands'\n",
      " 'New Zealand' 'Rio' 'SA' 'Scotland' 'South Africa' 'South Korea' 'Spain'\n",
      " 'Thai' 'Thailand' 'UAE' 'UK' 'US' 'USA' 'Ubud' 'Uk' 'Ukraine'\n",
      " 'United Arab Emirates' 'cambodia' 'japan' 'morocco']\n"
     ]
    }
   ],
   "source": [
    "Dcc_label=np.array(Dc_label).ravel()\n",
    "print(Dcc_label)"
   ]
  },
  {
   "cell_type": "code",
   "execution_count": 172,
   "metadata": {},
   "outputs": [
    {
     "name": "stdout",
     "output_type": "stream",
     "text": [
      "     AUS  Africa  Aus  Australia  Barcelona  Brazil  Canada  China  Egypt  \\\n",
      "0    0.0     0.0  0.0        0.0        0.0     0.0     0.0    0.0    0.0   \n",
      "1    0.0     0.0  0.0        0.0        0.0     0.0     0.0    0.0    0.0   \n",
      "2    0.0     0.0  0.0        0.0        0.0     0.0     0.0    0.0    0.0   \n",
      "3    0.0     0.0  0.0        0.0        0.0     0.0     0.0    0.0    0.0   \n",
      "4    0.0     0.0  0.0        0.0        0.0     0.0     0.0    0.0    0.0   \n",
      "..   ...     ...  ...        ...        ...     ...     ...    ...    ...   \n",
      "133  0.0     0.0  0.0        0.0        0.0     0.0     1.0    0.0    0.0   \n",
      "134  0.0     0.0  0.0        0.0        0.0     0.0     0.0    0.0    0.0   \n",
      "135  0.0     0.0  0.0        0.0        0.0     0.0     0.0    0.0    0.0   \n",
      "136  0.0     0.0  0.0        0.0        0.0     0.0     0.0    0.0    0.0   \n",
      "137  0.0     0.0  0.0        0.0        0.0     0.0     0.0    0.0    0.0   \n",
      "\n",
      "     France  ...   UK   US  USA  Ubud   Uk  Ukraine  United Arab Emirates  \\\n",
      "0       0.0  ...  1.0  0.0  0.0   0.0  0.0      0.0                   0.0   \n",
      "1       0.0  ...  0.0  0.0  0.0   0.0  0.0      0.0                   0.0   \n",
      "2       0.0  ...  0.0  0.0  0.0   0.0  0.0      0.0                   0.0   \n",
      "3       0.0  ...  0.0  0.0  1.0   0.0  0.0      0.0                   0.0   \n",
      "4       0.0  ...  0.0  0.0  0.0   0.0  0.0      0.0                   0.0   \n",
      "..      ...  ...  ...  ...  ...   ...  ...      ...                   ...   \n",
      "133     0.0  ...  0.0  0.0  0.0   0.0  0.0      0.0                   0.0   \n",
      "134     0.0  ...  0.0  0.0  0.0   0.0  0.0      0.0                   0.0   \n",
      "135     0.0  ...  0.0  0.0  0.0   0.0  0.0      0.0                   0.0   \n",
      "136     0.0  ...  0.0  0.0  0.0   0.0  0.0      0.0                   0.0   \n",
      "137     0.0  ...  0.0  0.0  0.0   0.0  0.0      0.0                   0.0   \n",
      "\n",
      "     cambodia  japan  morocco  \n",
      "0         0.0    0.0      0.0  \n",
      "1         0.0    0.0      0.0  \n",
      "2         0.0    0.0      0.0  \n",
      "3         0.0    0.0      0.0  \n",
      "4         0.0    0.0      0.0  \n",
      "..        ...    ...      ...  \n",
      "133       0.0    0.0      0.0  \n",
      "134       0.0    0.0      0.0  \n",
      "135       0.0    0.0      0.0  \n",
      "136       0.0    0.0      0.0  \n",
      "137       0.0    0.0      0.0  \n",
      "\n",
      "[138 rows x 41 columns]\n"
     ]
    }
   ],
   "source": [
    "new_country = pd.DataFrame(Dc_array,columns=Dcc_label)\n",
    "print(new_country)"
   ]
  },
  {
   "cell_type": "code",
   "execution_count": 176,
   "metadata": {},
   "outputs": [
    {
     "name": "stdout",
     "output_type": "stream",
     "text": [
      "     Trip ID Destination city Destination country Start date   End date  \\\n",
      "0          1           London                  UK   5/1/2023   5/8/2023   \n",
      "1          2           Phuket            Thailand  6/15/2023  6/20/2023   \n",
      "2          3             Bali           Indonesia   7/1/2023   7/8/2023   \n",
      "3          4         New York                 USA  8/15/2023  8/29/2023   \n",
      "4          5            Tokyo               Japan  9/10/2023  9/17/2023   \n",
      "..       ...              ...                 ...        ...        ...   \n",
      "133      136        Vancouver              Canada  8/15/2023  8/21/2023   \n",
      "134      137          Bangkok            Thailand   9/1/2023   9/8/2023   \n",
      "135      138        Barcelona               Spain  9/15/2023  9/22/2023   \n",
      "136      139         Auckland         New Zealand  10/1/2023  10/8/2023   \n",
      "137      140           kerala               India  15/2/2023   1/3/2023   \n",
      "\n",
      "     Duration (days)    Traveler name  Traveler age Traveler gender  \\\n",
      "0                  7       John Smith            35            Male   \n",
      "1                  5         Jane Doe            28          Female   \n",
      "2                  7        David Lee            45            Male   \n",
      "3                 14    Sarah Johnson            29          Female   \n",
      "4                  7       Kim Nguyen            26          Female   \n",
      "..               ...              ...           ...             ...   \n",
      "133                6      Emma Wilson            29          Female   \n",
      "134                7        Ryan Chen            34            Male   \n",
      "135                7  Sofia Rodriguez            25          Female   \n",
      "136                7    William Brown            39            Male   \n",
      "137               13      ryan ranold            50            male   \n",
      "\n",
      "    Traveler nationality  ...   UK   US  USA Ubud   Uk  Ukraine  \\\n",
      "0               American  ...  1.0  0.0  0.0  0.0  0.0      0.0   \n",
      "1               Canadian  ...  0.0  0.0  0.0  0.0  0.0      0.0   \n",
      "2                 Korean  ...  0.0  0.0  0.0  0.0  0.0      0.0   \n",
      "3                British  ...  0.0  0.0  1.0  0.0  0.0      0.0   \n",
      "4             Vietnamese  ...  0.0  0.0  0.0  0.0  0.0      0.0   \n",
      "..                   ...  ...  ...  ...  ...  ...  ...      ...   \n",
      "133             Canadian  ...  0.0  0.0  0.0  0.0  0.0      0.0   \n",
      "134              Chinese  ...  0.0  0.0  0.0  0.0  0.0      0.0   \n",
      "135              Spanish  ...  0.0  0.0  0.0  0.0  0.0      0.0   \n",
      "136        New Zealander  ...  0.0  0.0  0.0  0.0  0.0      0.0   \n",
      "137                Korea  ...  0.0  0.0  0.0  0.0  0.0      0.0   \n",
      "\n",
      "     United Arab Emirates  cambodia  japan  morocco  \n",
      "0                     0.0       0.0    0.0      0.0  \n",
      "1                     0.0       0.0    0.0      0.0  \n",
      "2                     0.0       0.0    0.0      0.0  \n",
      "3                     0.0       0.0    0.0      0.0  \n",
      "4                     0.0       0.0    0.0      0.0  \n",
      "..                    ...       ...    ...      ...  \n",
      "133                   0.0       0.0    0.0      0.0  \n",
      "134                   0.0       0.0    0.0      0.0  \n",
      "135                   0.0       0.0    0.0      0.0  \n",
      "136                   0.0       0.0    0.0      0.0  \n",
      "137                   0.0       0.0    0.0      0.0  \n",
      "\n",
      "[138 rows x 95 columns]\n"
     ]
    }
   ],
   "source": [
    "new_data1=pd.concat([new_data,new_country], axis=1)\n",
    "data=new_data1\n",
    "print(data)"
   ]
  }
 ],
 "metadata": {
  "kernelspec": {
   "display_name": "Python 3",
   "language": "python",
   "name": "python3"
  },
  "language_info": {
   "codemirror_mode": {
    "name": "ipython",
    "version": 3
   },
   "file_extension": ".py",
   "mimetype": "text/x-python",
   "name": "python",
   "nbconvert_exporter": "python",
   "pygments_lexer": "ipython3",
   "version": "3.11.1"
  }
 },
 "nbformat": 4,
 "nbformat_minor": 2
}
